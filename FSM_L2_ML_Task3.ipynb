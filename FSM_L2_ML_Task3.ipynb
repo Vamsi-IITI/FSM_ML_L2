{
  "cells": [
    {
      "attachments": {},
      "cell_type": "markdown",
      "metadata": {
        "id": "5pmXOvyQho6X"
      },
      "source": [
        "# **Unsupervised Learning**"
      ]
    },
    {
      "cell_type": "code",
      "execution_count": 3,
      "metadata": {
        "id": "YL5SargJhjj_"
      },
      "outputs": [],
      "source": [
        "# Importing libraries\n",
        "\n",
        "import numpy as np\n",
        "\n",
        "import pandas as pd\n",
        "\n",
        "import matplotlib.pyplot as plt\n",
        "\n",
        "import random"
      ]
    },
    {
      "attachments": {},
      "cell_type": "markdown",
      "metadata": {
        "id": "QLiPXah5-LNx"
      },
      "source": [
        "## **K-means Clustering**"
      ]
    },
    {
      "cell_type": "code",
      "execution_count": 23,
      "metadata": {
        "id": "AZTtsG4-gOKu"
      },
      "outputs": [],
      "source": [
        "class KMeans:\n",
        "    def __init__(self, k=3, max_iterations=100):\n",
        "        self.k = k\n",
        "        self.max_iterations = max_iterations\n",
        "        self.centroids = []\n",
        "    \n",
        "    def fit(self, X):\n",
        "        # Initialize centroids randomly\n",
        "        self.centroids = random.sample(list(X), self.k)\n",
        "        \n",
        "        for _ in range(self.max_iterations):\n",
        "            # Assign each sample to the nearest centroid\n",
        "            clusters = self.assign_clusters(X)\n",
        "            \n",
        "            # Update centroids\n",
        "            prev_centroids = self.centroids\n",
        "            self.centroids = self.update_centroids(clusters)\n",
        "            \n",
        "            # Check convergence\n",
        "            if self.has_converged(prev_centroids, self.centroids):\n",
        "                break\n",
        "    \n",
        "    def assign_clusters(self, X):\n",
        "        clusters = {}\n",
        "        for sample in X:\n",
        "            distances = [np.linalg.norm(sample - centroid) for centroid in self.centroids]\n",
        "            cluster_index = np.argmin(distances)\n",
        "            \n",
        "            if cluster_index not in clusters:\n",
        "                clusters[cluster_index] = []\n",
        "            \n",
        "            clusters[cluster_index].append(sample)\n",
        "        \n",
        "        return clusters\n",
        "    \n",
        "    def update_centroids(self, clusters):\n",
        "        centroids = []\n",
        "        for cluster_index, samples in clusters.items():\n",
        "            centroid = np.mean(samples, axis=0)\n",
        "            centroids.append(centroid)\n",
        "        \n",
        "        return centroids\n",
        "    \n",
        "    def has_converged(self, prev_centroids, new_centroids, tol=1e-4):\n",
        "        return np.sum(np.abs(np.array(prev_centroids) - np.array(new_centroids))) < tol\n",
        "    \n",
        "    def predict(self, X):\n",
        "        clusters = self.assign_clusters(X)\n",
        "        labels = np.zeros(len(X), dtype=int)\n",
        "        \n",
        "        for cluster_index, samples in clusters.items():\n",
        "            labels[np.array(samples)] = cluster_index\n",
        "        \n",
        "        return labels"
      ]
    },
    {
      "attachments": {},
      "cell_type": "markdown",
      "metadata": {
        "id": "jYrbJ9L-ZABi"
      },
      "source": [
        "## **PCA Algorithm**"
      ]
    },
    {
      "cell_type": "code",
      "execution_count": 22,
      "metadata": {
        "id": "lnzeG2xog_o8"
      },
      "outputs": [],
      "source": [
        "class PCA:\n",
        "    def __init__(self, n_components):\n",
        "        self.n_components = n_components\n",
        "        self.components = None\n",
        "        self.mean = None\n",
        "    \n",
        "    def fit(self, X):\n",
        "        # Compute mean of the data\n",
        "        self.mean = np.mean(X, axis=0)\n",
        "        \n",
        "        # Center the data\n",
        "        X_centered = X - self.mean\n",
        "        \n",
        "        # Compute covariance matrix\n",
        "        covariance_matrix = np.cov(X_centered.T)\n",
        "        \n",
        "        # Compute eigenvectors and eigenvalues\n",
        "        eigenvalues, eigenvectors = np.linalg.eig(covariance_matrix)\n",
        "        \n",
        "        # Sort eigenvectors based on eigenvalues\n",
        "        indices = np.argsort(eigenvalues)[::-1]\n",
        "        sorted_eigenvectors = eigenvectors[:, indices]\n",
        "        \n",
        "        # Select the top-k eigenvectors (components)\n",
        "        self.components = sorted_eigenvectors[:, :self.n_components]\n",
        "    \n",
        "    def transform(self, X):\n",
        "        # Center the data\n",
        "        X_centered = X - self.mean\n",
        "        \n",
        "        # Project the data onto the components\n",
        "        return np.dot(X_centered, self.components)\n",
        "    \n",
        "    def fit_transform(self, X):\n",
        "        self.fit(X)\n",
        "        return self.transform(X)"
      ]
    }
  ],
  "metadata": {
    "colab": {
      "provenance": []
    },
    "kernelspec": {
      "display_name": "Python 3",
      "name": "python3"
    },
    "language_info": {
      "name": "python"
    }
  },
  "nbformat": 4,
  "nbformat_minor": 0
}
